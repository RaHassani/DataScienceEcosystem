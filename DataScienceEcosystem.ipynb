{
  "metadata": {
    "kernelspec": {
      "name": "xpython",
      "display_name": "Python 3.13 (XPython)",
      "language": "python"
    },
    "language_info": {
      "file_extension": ".py",
      "mimetype": "text/x-python",
      "name": "python",
      "version": "3.13.1"
    }
  },
  "nbformat_minor": 5,
  "nbformat": 4,
  "cells": [
    {
      "id": "277215bb-b3ff-4184-a363-7a07693851c6",
      "cell_type": "markdown",
      "source": "## Data Science Tools and Ecosystem",
      "metadata": {}
    },
    {
      "id": "67a53170-399b-482e-88aa-7f49dd7593cd",
      "cell_type": "markdown",
      "source": "## In this notebook, Data Science Tools and Ecosystem are summarized.",
      "metadata": {}
    },
    {
      "id": "5264d0a2-8532-49ef-bf20-f6e39c4034a3",
      "cell_type": "markdown",
      "source": "## Data Science Tools\n\n| Tool          | Description                      |\n|---------------|--------------------------------|\n| Jupyter       | Interactive computing platform  |\n| RStudio       | IDE for R programming           |\n| Apache Spark  | Big data processing engine      |\n| Tableau       | Data visualization tool         |\n| GitHub        | Version control and collaboration |\n",
      "metadata": {}
    },
    {
      "id": "c5e3fc6e-2c7a-45bc-b334-d5e16ee58cba",
      "cell_type": "code",
      "source": "(3*4)+5",
      "metadata": {
        "trusted": true
      },
      "outputs": [
        {
          "execution_count": 1,
          "output_type": "execute_result",
          "data": {
            "text/plain": "17"
          },
          "metadata": {}
        }
      ],
      "execution_count": 1
    }
  ]
}